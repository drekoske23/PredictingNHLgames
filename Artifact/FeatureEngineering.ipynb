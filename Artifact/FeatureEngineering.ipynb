{
 "cells": [
  {
   "attachments": {},
   "cell_type": "markdown",
   "metadata": {},
   "source": [
    "# Feature Engineering"
   ]
  },
  {
   "cell_type": "code",
   "execution_count": null,
   "metadata": {},
   "outputs": [],
   "source": [
    "import pandas as pd\n",
    "import numpy as np"
   ]
  },
  {
   "attachments": {},
   "cell_type": "markdown",
   "metadata": {},
   "source": [
    "### Initialize Columns for our Features"
   ]
  },
  {
   "cell_type": "code",
   "execution_count": null,
   "metadata": {},
   "outputs": [],
   "source": [
    "df = pd.read_csv(\"ArtifactDataset\")\n",
    "df = df.drop(columns = \"Unnamed: 0\")\n",
    "df['v_elo'] = 1500\n",
    "df['h_elo'] = 1500\n",
    "df['h_winstreak'] = 0\n",
    "df['v_winstreak'] = 0\n"
   ]
  },
  {
   "attachments": {},
   "cell_type": "markdown",
   "metadata": {},
   "source": [
    "#### Creating ELO Feature as a Weighted Measure of Performance"
   ]
  },
  {
   "cell_type": "code",
   "execution_count": null,
   "metadata": {},
   "outputs": [],
   "source": [
    "def find_last_game_elo(df, index, team):\n",
    "    for i in range(index -1, -1, -1):\n",
    "        row = df.iloc[i]\n",
    "        visitor_team = row['Visitor']\n",
    "        home_team = row['Home']\n",
    "        visitor_elo = row['v_elo']\n",
    "        home_elo = row['h_elo']\n",
    "        if visitor_team == team:\n",
    "            return visitor_elo\n",
    "        elif home_team == team:\n",
    "            return home_elo\n",
    "    return 1500\n"
   ]
  },
  {
   "cell_type": "code",
   "execution_count": null,
   "metadata": {},
   "outputs": [],
   "source": [
    "def calculate_elo_game(df, index, game, visitor, home):\n",
    "    visitor_elo = find_last_game_elo(df, index, visitor)\n",
    "    home_elo = find_last_game_elo(df, index, home)\n",
    "    mov_const = ((20 * (abs(game['v_goals'] - game['h_goals']) + 1.5)) ** .8) / (7.5 + (visitor_elo - home_elo) * 0.0001)\n",
    "\n",
    "    elo_change = mov_const/100\n",
    "\n",
    "    if game['Winner'] == game['Visitor']:\n",
    "        visitor_elo += elo_change\n",
    "        home_elo -= elo_change\n",
    "    else:\n",
    "        visitor_elo -= elo_change\n",
    "        home_elo += elo_change\n",
    "\n",
    "    return visitor_elo, home_elo\n"
   ]
  },
  {
   "cell_type": "code",
   "execution_count": null,
   "metadata": {},
   "outputs": [],
   "source": [
    "def update_elo(df):\n",
    "    for index, game in df.iterrows():\n",
    "        visitor = game['Visitor']\n",
    "        home = game['Home']\n",
    "\n",
    "        visitor, home = calculate_elo_game(df, index, game, visitor, home)\n",
    "\n",
    "        df.at[index, 'v_elo'] = visitor\n",
    "        df.at[index, 'h_elo'] = home\n",
    "    return df\n",
    "update_elo(df)"
   ]
  },
  {
   "cell_type": "code",
   "execution_count": null,
   "metadata": {},
   "outputs": [],
   "source": [
    "def calculate_average(df, column1, column2):\n",
    "    \"\"\"\n",
    "    Calculate the average of two different columns in a Pandas DataFrame.\n",
    "\n",
    "    Parameters:\n",
    "    df (pandas.DataFrame): the DataFrame to calculate the average on.\n",
    "    column1 (str): the name of the first column to average.\n",
    "    column2 (str): the name of the second column to average.\n",
    "\n",
    "    Returns:\n",
    "    float: the average of the two columns.\n",
    "    \"\"\"\n",
    "    return pd.concat([df[column1], df[column2]], axis=1).mean().mean()\n"
   ]
  },
  {
   "attachments": {},
   "cell_type": "markdown",
   "metadata": {},
   "source": [
    "#### Creating Winstreak Feature to Measure Recent Performance"
   ]
  },
  {
   "cell_type": "code",
   "execution_count": null,
   "metadata": {},
   "outputs": [],
   "source": [
    "def find_last_game(df, index, team):\n",
    "    for i in range(index - 1, -1, -1):\n",
    "        row = df.iloc[i]\n",
    "        if row['Visitor'] == team or row['Home'] == team:\n",
    "            return row\n",
    "    return None\n"
   ]
  },
  {
   "cell_type": "code",
   "execution_count": null,
   "metadata": {},
   "outputs": [],
   "source": [
    "def calculate_winstreak(df):\n",
    "    for index, game in df.iterrows():\n",
    "        h_game = find_last_game(df, index, game['Home'])\n",
    "        v_game = find_last_game(df, index, game['Visitor'])\n",
    "        if v_game is None:\n",
    "            df.loc[index, \"v_winstreak\"] = 0\n",
    "        else:\n",
    "            df.loc[index, \"v_winstreak\"] = v_game['v_winstreak'] + 1 if v_game['Winner'] == game['Visitor'] else 0\n",
    "        if h_game is None:\n",
    "            df.loc[index, \"h_winstreak\"] = 0\n",
    "        else:\n",
    "            df.loc[index, \"h_winstreak\"] = h_game['h_winstreak'] + 1 if h_game['Winner'] == game['Home'] else 0\n",
    "    return df\n",
    "calculate_winstreak(df)"
   ]
  },
  {
   "cell_type": "code",
   "execution_count": null,
   "metadata": {},
   "outputs": [],
   "source": [
    "df.to_csv(\"EngineeredData\")"
   ]
  },
  {
   "attachments": {},
   "cell_type": "markdown",
   "metadata": {},
   "source": [
    "### Principal Component Analysis"
   ]
  },
  {
   "attachments": {},
   "cell_type": "markdown",
   "metadata": {},
   "source": [
    "#### Note: Didn't end up using PCA in creating the model, but it was fun to learn about"
   ]
  },
  {
   "attachments": {},
   "cell_type": "markdown",
   "metadata": {},
   "source": [
    "#### Preparation of Data for PCA"
   ]
  },
  {
   "cell_type": "code",
   "execution_count": null,
   "metadata": {},
   "outputs": [],
   "source": [
    "engineered_data = pd.read_csv(\"EngineeredData\")\n",
    "raw_data = engineered_data.drop(columns= ['Home', 'Visitor', 'Winner', 'Unnamed: 0', 'Date'])"
   ]
  },
  {
   "cell_type": "code",
   "execution_count": null,
   "metadata": {},
   "outputs": [],
   "source": [
    "from sklearn.preprocessing import StandardScaler\n",
    "from sklearn.decomposition import PCA\n",
    "\n",
    "\n",
    "\n",
    "# scale the features\n",
    "scaler = StandardScaler()\n",
    "scaled_df = scaler.fit_transform(raw_data)\n",
    "\n",
    "# perform PCA\n",
    "pca = PCA(n_components=10)\n",
    "principal_components = pca.fit_transform(scaled_df)\n"
   ]
  },
  {
   "attachments": {},
   "cell_type": "markdown",
   "metadata": {},
   "source": [
    "#### Outputs the Percent of Variance explained by each Principal Component"
   ]
  },
  {
   "cell_type": "code",
   "execution_count": null,
   "metadata": {},
   "outputs": [],
   "source": [
    "explained_variance = pca.explained_variance_ratio_\n",
    "explained_variance\n"
   ]
  },
  {
   "attachments": {},
   "cell_type": "markdown",
   "metadata": {},
   "source": [
    "#### Short Script Outputting Original Feature Whose Coefficient is Greatest for each Principal Component"
   ]
  },
  {
   "cell_type": "code",
   "execution_count": null,
   "metadata": {},
   "outputs": [],
   "source": [
    "n_pcs = pca.components_.shape[0]\n",
    "\n",
    "most_important = [np.abs(pca.components_[i]).argmax() for i in range(n_pcs)]\n",
    "\n",
    "initial_feature_names = list(raw_data.columns)\n",
    "# get the names\n",
    "most_important_names = [initial_feature_names[most_important[i]] for i in range(n_pcs)]\n",
    "\n",
    "# LIST COMPREHENSION HERE AGAIN\n",
    "dic = {'PC{}'.format(i): most_important_names[i] for i in range(n_pcs)}\n",
    "\n",
    "# build the dataframe\n",
    "out = pd.DataFrame(dic.items())\n",
    "out"
   ]
  },
  {
   "attachments": {},
   "cell_type": "markdown",
   "metadata": {},
   "source": [
    "#### Color Coded Plot in 3 Dimensions - Blue is Home Team WIN, Red Visitor Team WIN"
   ]
  },
  {
   "cell_type": "code",
   "execution_count": null,
   "metadata": {},
   "outputs": [],
   "source": [
    "import matplotlib.pyplot as plt\n",
    "\n",
    "# Extract x, y, and z values from the principal components\n",
    "x = principal_components[:, 0]\n",
    "y = principal_components[:, 1]\n",
    "z = principal_components[:, 2]\n",
    "\n",
    "# Create a list of colors based on the winner of the game\n",
    "colors = []\n",
    "for index, game in engineered_data.iterrows():\n",
    "    if game['Winner'] == game['Home']:\n",
    "        colors.append('b')  # blue for home win\n",
    "    else:\n",
    "        colors.append('r')  # red for visitor win\n",
    "\n",
    "# Create a 3D plot\n",
    "fig = plt.figure()\n",
    "ax = fig.add_subplot(111, projection='3d')\n",
    "\n",
    "# Add data points to the plot with the corresponding color\n",
    "ax.scatter(x, y, z, c=colors, marker='o')\n",
    "\n",
    "# Add labels to the x, y, and z axes\n",
    "ax.set_xlabel('PC1')\n",
    "ax.set_ylabel('PC2')\n",
    "ax.set_zlabel('PC3')\n"
   ]
  },
  {
   "attachments": {},
   "cell_type": "markdown",
   "metadata": {},
   "source": [
    "#### Again, did not use, but this is projecting the original data onto principal component axes"
   ]
  },
  {
   "cell_type": "code",
   "execution_count": null,
   "metadata": {},
   "outputs": [],
   "source": [
    "projected_data = pd.DataFrame(data=principal_components, columns=['PC1', 'PC2', 'PC3', 'PC4', 'PC5', 'PC6', 'PC7', 'PC8', 'PC9', 'PC10'])\n",
    "projected_data.to_csv(\"ProjectedData\", index=False)"
   ]
  }
 ],
 "metadata": {
  "kernelspec": {
   "display_name": "base",
   "language": "python",
   "name": "python3"
  },
  "language_info": {
   "codemirror_mode": {
    "name": "ipython",
    "version": 3
   },
   "file_extension": ".py",
   "mimetype": "text/x-python",
   "name": "python",
   "nbconvert_exporter": "python",
   "pygments_lexer": "ipython3",
   "version": "3.9.13"
  },
  "orig_nbformat": 4,
  "vscode": {
   "interpreter": {
    "hash": "aaf89b8e18e8001388ae5f602fac2560202aca3fdca6dcc84ec365eaf6a69bd8"
   }
  }
 },
 "nbformat": 4,
 "nbformat_minor": 2
}
