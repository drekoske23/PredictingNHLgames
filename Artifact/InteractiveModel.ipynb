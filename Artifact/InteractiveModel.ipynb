{
 "cells": [
  {
   "cell_type": "code",
   "execution_count": null,
   "metadata": {},
   "outputs": [],
   "source": [
    "%pip install selenium\n"
   ]
  },
  {
   "attachments": {},
   "cell_type": "markdown",
   "metadata": {},
   "source": [
    "## Find the Games Played Today"
   ]
  },
  {
   "cell_type": "code",
   "execution_count": null,
   "metadata": {},
   "outputs": [],
   "source": [
    "import csv\n",
    "from datetime import date, timedelta\n",
    "\n",
    "def get_games_today(filename):\n",
    "    \"\"\"\n",
    "    Returns a list of tuples representing the games being played today from a CSV file.\n",
    "    Each tuple contains the date, time, and two teams playing against each other.\n",
    "    \"\"\"\n",
    "    games_today = []\n",
    "    with open(filename, 'r') as file:\n",
    "        reader = csv.reader(file)\n",
    "        tomorrow = date.today() + timedelta(days=0)\n",
    "        for row in reader:\n",
    "            game_date = row[0]\n",
    "            game_time = row[1]\n",
    "            team1 = row[2]\n",
    "            team2 = row[3]\n",
    "            if game_date == str(tomorrow):\n",
    "                games_today.append((game_date, game_time, team1, team2))\n",
    "    return games_today"
   ]
  },
  {
   "cell_type": "code",
   "execution_count": null,
   "metadata": {},
   "outputs": [],
   "source": [
    "games_today = get_games_today('2022_2023_NHL_Schedule.csv')\n",
    "print(games_today)"
   ]
  },
  {
   "attachments": {},
   "cell_type": "markdown",
   "metadata": {},
   "source": [
    "## Unsucessful Scraping Attempt"
   ]
  },
  {
   "cell_type": "code",
   "execution_count": null,
   "metadata": {},
   "outputs": [],
   "source": [
    "from selenium import webdriver\n",
    "from selenium.webdriver.chrome.service import Service as ChromeService\n",
    "from selenium.webdriver.common.by import By\n",
    "from selenium.webdriver.support.ui import WebDriverWait\n",
    "from selenium.webdriver.support import expected_conditions as EC\n",
    "from bs4 import BeautifulSoup\n",
    "\n",
    "# Set up the Chrome driver with the path to your chromedriver executable\n",
    "\n",
    "driver = webdriver.Chrome()\n",
    "\n",
    "url = \"https://www.nhl.com/stats/teams\"\n",
    "\n",
    "# Load the NHL stats/teams page with Selenium\n",
    "driver.get(url)\n",
    "\n",
    "# Wait for the table element to become available before parsing it with BeautifulSoup\n",
    "try:\n",
    "    table_element = WebDriverWait(driver, 10).until(\n",
    "        EC.presence_of_element_located((By.XPATH, \"//table[@class='rt-table']\"))\n",
    "    )\n",
    "    soup = BeautifulSoup(driver.page_source, \"html.parser\")\n",
    "    table = soup.find(\"table\", {\"class\": \"rt-table\"})\n",
    "\n",
    "    # Get the table header row and extract the column names\n",
    "    header_row = table.find(\"thead\").find(\"tr\")\n",
    "    column_names = [th.text.strip() for th in header_row.find_all(\"th\")]\n",
    "\n",
    "    # Create an empty list to store the table data rows\n",
    "    rows = []\n",
    "\n",
    "    # Iterate through the table body rows and extract the data\n",
    "    for tr in table.find(\"tbody\").find_all(\"tr\"):\n",
    "        # Extract the column data for each row\n",
    "        row = [td.text.strip() for td in tr.find_all(\"td\")]\n",
    "        # Add the row to the list of rows\n",
    "        rows.append(row)\n",
    "\n",
    "    # Print the column names and data rows\n",
    "    print(column_names)\n",
    "    for row in rows:\n",
    "        print(row)\n",
    "\n",
    "finally:\n",
    "    # Close the browser window\n",
    "    driver.quit()\n",
    "\n"
   ]
  },
  {
   "cell_type": "code",
   "execution_count": null,
   "metadata": {},
   "outputs": [],
   "source": [
    "from selenium import webdriver\n",
    "from selenium.webdriver.common.by import By\n",
    "from selenium.webdriver.support.ui import WebDriverWait\n",
    "from selenium.webdriver.support import expected_conditions as EC\n",
    "\n",
    "# Replace the URL and driver path with your own values\n",
    "url = \"https://www.hockey-reference.com/leagues/NHL_2023_games.html\"\n",
    "\n",
    "\n",
    "# Create a new instance of the Firefox driver\n",
    "driver = webdriver.Chrome()\n",
    "\n",
    "# Navigate to the URL\n",
    "driver.get(url)\n",
    "\n",
    "# Wait for the button to be clickable\n",
    "button = WebDriverWait(driver, 10).until(\n",
    "    EC.element_to_be_clickable((By.XPATH, '//button[@class=\"tooltip\" and @tip=\"Convert the table below to comma-separated values\\nsuitable for use with Excel\"]'))\n",
    ")\n",
    "\n",
    "# Click the button\n",
    "button.click()\n",
    "\n",
    "# Close the browser\n",
    "driver.quit()\n",
    "\n",
    "\n",
    "\n",
    "\n",
    "\n"
   ]
  },
  {
   "attachments": {},
   "cell_type": "markdown",
   "metadata": {},
   "source": [
    "### Manually Downloaded Team and Game Data from 2023 Season"
   ]
  },
  {
   "cell_type": "code",
   "execution_count": null,
   "metadata": {},
   "outputs": [],
   "source": [
    "import pandas as pd"
   ]
  },
  {
   "cell_type": "code",
   "execution_count": null,
   "metadata": {},
   "outputs": [],
   "source": [
    "games = pd.read_csv(\"23Games.csv\")\n",
    "standings = pd.read_csv(\"23Standings.csv\")"
   ]
  },
  {
   "cell_type": "code",
   "execution_count": null,
   "metadata": {},
   "outputs": [],
   "source": [
    "standings['Season'] = standings['Season'] % 10000\n",
    "standings = standings.drop(columns = ['T', 'OT', 'FOW%'])\n",
    "def replace_value(x):\n",
    "    if isinstance(x, str) and x == \"Montréal Canadiens\":\n",
    "        x = x.replace(\"Montréal Canadiens\", \"Montreal Canadiens\")\n",
    "        return x\n",
    "    else:\n",
    "        return x\n",
    "\n",
    "standings = standings.applymap(replace_value)"
   ]
  },
  {
   "attachments": {},
   "cell_type": "markdown",
   "metadata": {},
   "source": [
    "### Prepare 2023 Data For Features to be Added"
   ]
  },
  {
   "cell_type": "code",
   "execution_count": null,
   "metadata": {},
   "outputs": [],
   "source": [
    "games = games.drop(columns = ['Unnamed: 5', 'Att.', 'LOG', 'Notes'])\n",
    "games['Winner'] = games.apply(lambda x: x['Visitor'] if x['G'] > x['G.1'] else (x['Home'] if x['G'] < x['G.1'] else 'Tie'), axis=1)\n",
    "games = games[games['Winner'] != 'Tie']\n",
    "games['v_elo'] = 1500\n",
    "games['h_elo'] = 1500\n",
    "games['v_winstreak'] = 0\n",
    "games['h_winstreak'] = 0"
   ]
  },
  {
   "attachments": {},
   "cell_type": "markdown",
   "metadata": {},
   "source": [
    "### Calculate ELO of Teams in Games this Year"
   ]
  },
  {
   "cell_type": "code",
   "execution_count": null,
   "metadata": {},
   "outputs": [],
   "source": [
    "def find_last_game_elo(df, index, team):\n",
    "    for i in range(index -1, -1, -1):\n",
    "        row = df.iloc[i]\n",
    "        visitor_team = row['Visitor']\n",
    "        home_team = row['Home']\n",
    "        visitor_elo = row['v_elo']\n",
    "        home_elo = row['h_elo']\n",
    "        if visitor_team == team:\n",
    "            return visitor_elo\n",
    "        elif home_team == team:\n",
    "            return home_elo\n",
    "    return 1500"
   ]
  },
  {
   "cell_type": "code",
   "execution_count": null,
   "metadata": {},
   "outputs": [],
   "source": [
    "def calculate_elo_game(df, index, game, visitor, home):\n",
    "    visitor_elo = find_last_game_elo(df, index, visitor)\n",
    "    home_elo = find_last_game_elo(df, index, home)\n",
    "    mov_const = ((20 * (abs(game['G'] - game['G.1']) + 1.5)) ** .8) / (7.5 + (visitor_elo - home_elo) * 0.0001)\n",
    "\n",
    "    elo_change = mov_const/100\n",
    "\n",
    "    if game['Winner'] == game['Visitor']:\n",
    "        visitor_elo += elo_change\n",
    "        home_elo -= elo_change\n",
    "    else:\n",
    "        visitor_elo -= elo_change\n",
    "        home_elo += elo_change\n",
    "\n",
    "    return visitor_elo, home_elo"
   ]
  },
  {
   "cell_type": "code",
   "execution_count": null,
   "metadata": {},
   "outputs": [],
   "source": [
    "def update_elo(df):\n",
    "    for index, game in df.iterrows():\n",
    "        visitor = game['Visitor']\n",
    "        home = game['Home']\n",
    "\n",
    "        visitor, home = calculate_elo_game(df, index, game, visitor, home)\n",
    "\n",
    "        df.at[index, 'v_elo'] = visitor\n",
    "        df.at[index, 'h_elo'] = home\n",
    "    return df\n",
    "update_elo(games)"
   ]
  },
  {
   "attachments": {},
   "cell_type": "markdown",
   "metadata": {},
   "source": [
    "### Calculate Winstreak of Teams in Games This Year"
   ]
  },
  {
   "cell_type": "code",
   "execution_count": null,
   "metadata": {},
   "outputs": [],
   "source": [
    "def find_last_game(df, index, team):\n",
    "    for i in range(index - 1, -1, -1):\n",
    "        row = df.iloc[i]\n",
    "        if row['Visitor'] == team or row['Home'] == team:\n",
    "            return row\n",
    "    return None"
   ]
  },
  {
   "cell_type": "code",
   "execution_count": null,
   "metadata": {},
   "outputs": [],
   "source": [
    "def calculate_winstreak(df):\n",
    "    for index, game in df.iterrows():\n",
    "        h_game = find_last_game(df, index, game['Home'])\n",
    "        v_game = find_last_game(df, index, game['Visitor'])\n",
    "        if v_game is None:\n",
    "            df.loc[index, \"v_winstreak\"] = 0\n",
    "        else:\n",
    "            df.loc[index, \"v_winstreak\"] = v_game['v_winstreak'] + 1 if v_game['Winner'] == game['Visitor'] else 0\n",
    "\n",
    "        if h_game is None:\n",
    "            df.loc[index, \"h_winstreak\"] = 0\n",
    "        else:\n",
    "            df.loc[index, \"h_winstreak\"] = h_game['h_winstreak'] + 1 if h_game['Winner'] == game['Home'] else 0\n",
    "\n",
    "    return df\n",
    "calculate_winstreak(games)"
   ]
  },
  {
   "attachments": {},
   "cell_type": "markdown",
   "metadata": {},
   "source": [
    "## Prediction Making!"
   ]
  },
  {
   "cell_type": "code",
   "execution_count": null,
   "metadata": {},
   "outputs": [],
   "source": [
    "import numpy as np"
   ]
  },
  {
   "attachments": {},
   "cell_type": "markdown",
   "metadata": {},
   "source": [
    "### Create Feature Vector With Same Structure as the Model was Trained On"
   ]
  },
  {
   "cell_type": "code",
   "execution_count": null,
   "metadata": {},
   "outputs": [],
   "source": [
    "\n",
    "import pandas as pd\n",
    "\n",
    "def format_game_data(game, standing_df, game_df):\n",
    "    # Extract relevant information from the game dataframe\n",
    "    date, time, home_team, away_team = game\n",
    "    home_row = standing_df.loc[standing_df['Team'] == home_team]\n",
    "    away_row = standing_df.loc[standing_df['Team'] == away_team]\n",
    "\n",
    "    # Find the most recent game for each team\n",
    "    v_elo, v_winstreak = find_most_recent_game(game_df, away_team)\n",
    "    h_elo, h_winstreak = find_most_recent_game(game_df, home_team)\n",
    "\n",
    "    # Combine the relevant data into a single input vector\n",
    "    elo_winstreak = np.array([v_elo, h_elo, v_winstreak, h_winstreak])\n",
    "    input_vec = np.concatenate([away_row.values[0], home_row.values[0], elo_winstreak])\n",
    "\n",
    "    # Convert the input vector to a dataframe with one row and 44 columns\n",
    "    columns = list(away_row.columns) + list(home_row.columns) + ['away_elo', 'home_elo', 'away_winstreak', 'home_winstreak']\n",
    "    df = pd.DataFrame(input_vec.reshape(1, -1), columns=columns)\n",
    "\n",
    "    return df\n",
    "\n",
    "\n",
    "def find_most_recent_game(df, team):\n",
    "    for i in range(df.shape[0] - 1, -1, -1):\n",
    "        row = df.iloc[i]\n",
    "        if row['Visitor'] == team:\n",
    "            return row['v_elo'], row['v_winstreak']\n",
    "        elif row['Home'] == team:\n",
    "            return row['h_elo'], row['h_winstreak']\n",
    "    return None, None"
   ]
  },
  {
   "cell_type": "code",
   "execution_count": null,
   "metadata": {},
   "outputs": [],
   "source": [
    "from tensorflow import keras"
   ]
  },
  {
   "cell_type": "code",
   "execution_count": null,
   "metadata": {},
   "outputs": [],
   "source": [
    "model = keras.models.load_model(\"Best_Model\")"
   ]
  },
  {
   "attachments": {},
   "cell_type": "markdown",
   "metadata": {},
   "source": [
    "### Make Predictions for the Day!!!"
   ]
  },
  {
   "cell_type": "code",
   "execution_count": null,
   "metadata": {},
   "outputs": [],
   "source": [
    "\n",
    "# Create an empty list to store predictions\n",
    "predictions = []\n",
    "\n",
    "# Loop through each game in games_today\n",
    "for game in games_today:\n",
    "\n",
    "    date, time, home_team, away_team = game\n",
    "    # Format the game data\n",
    "    data = format_game_data(game, standings, games)\n",
    "    # Make a prediction on the formatted data\n",
    "    data = data.drop(columns = ['Team', 'Season'])\n",
    "\n",
    "    prediction = model.predict(data.astype(int))\n",
    "\n",
    "    print(\"There is a\", prediction[0][0], \"probability that the\", home_team, \"win!\")\n",
    "\n",
    "\n"
   ]
  }
 ],
 "metadata": {
  "kernelspec": {
   "display_name": "base",
   "language": "python",
   "name": "python3"
  },
  "language_info": {
   "codemirror_mode": {
    "name": "ipython",
    "version": 3
   },
   "file_extension": ".py",
   "mimetype": "text/x-python",
   "name": "python",
   "nbconvert_exporter": "python",
   "pygments_lexer": "ipython3",
   "version": "3.9.13"
  },
  "orig_nbformat": 4,
  "vscode": {
   "interpreter": {
    "hash": "aaf89b8e18e8001388ae5f602fac2560202aca3fdca6dcc84ec365eaf6a69bd8"
   }
  }
 },
 "nbformat": 4,
 "nbformat_minor": 2
}
