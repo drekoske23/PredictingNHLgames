{
 "cells": [
  {
   "attachments": {},
   "cell_type": "markdown",
   "metadata": {},
   "source": [
    "# Model Training"
   ]
  },
  {
   "cell_type": "code",
   "execution_count": null,
   "metadata": {},
   "outputs": [],
   "source": [
    "%pip install tensorflow"
   ]
  },
  {
   "attachments": {},
   "cell_type": "markdown",
   "metadata": {},
   "source": [
    "### Read In Data"
   ]
  },
  {
   "cell_type": "code",
   "execution_count": null,
   "metadata": {},
   "outputs": [],
   "source": [
    "import pandas as pd\n",
    "\n",
    "full_data = pd.read_csv(\"EngineeredData\")\n",
    "pca_data = pd.read_csv(\"ProjectedData\")"
   ]
  },
  {
   "attachments": {},
   "cell_type": "markdown",
   "metadata": {},
   "source": [
    "### Final Processing Work"
   ]
  },
  {
   "cell_type": "code",
   "execution_count": null,
   "metadata": {},
   "outputs": [],
   "source": [
    "for index, game in full_data.iterrows():\n",
    "    winner = game['Winner']\n",
    "    home = game['Home']\n",
    "    if winner == home:\n",
    "        full_data.at[index, 'Winner'] = 1\n",
    "    else:\n",
    "        full_data.at[index, 'Winner'] = 0\n",
    "        \n",
    "full_data['Winner'] = full_data['Winner'].astype(int)\n",
    "full_data = full_data.drop(columns = ['Unnamed: 0', 'Visitor', 'Home', 'v_goals', 'h_goals', 'Date', 'Season'])\n",
    "\n"
   ]
  },
  {
   "attachments": {},
   "cell_type": "markdown",
   "metadata": {},
   "source": [
    "### Normalize Data for Training"
   ]
  },
  {
   "cell_type": "code",
   "execution_count": null,
   "metadata": {},
   "outputs": [],
   "source": [
    "from sklearn.preprocessing import MinMaxScaler\n",
    "\n",
    "scaler = MinMaxScaler()\n",
    "full_data_normalized = pd.DataFrame(scaler.fit_transform(full_data), columns=full_data.columns)\n"
   ]
  },
  {
   "attachments": {},
   "cell_type": "markdown",
   "metadata": {},
   "source": [
    "### Split into Feature Vector and Target"
   ]
  },
  {
   "cell_type": "code",
   "execution_count": null,
   "metadata": {},
   "outputs": [],
   "source": [
    "X = full_data.drop(['Winner'], axis=1)  # Drop the target column from the features\n",
    "y = full_data['Winner']  # Set the target column as the target variable\n"
   ]
  },
  {
   "cell_type": "code",
   "execution_count": null,
   "metadata": {},
   "outputs": [],
   "source": [
    "from sklearn.model_selection import train_test_split\n",
    "\n",
    "# Assume your input data is called `X` and your target variable is called `y`\n",
    "X_trainval, X_test, y_trainval, y_test = train_test_split(X, y, test_size=0.2, random_state=42)\n",
    "X_train, X_val, y_train, y_val = train_test_split(X_trainval, y_trainval, test_size=0.25, random_state=42)\n",
    "\n",
    "# Print the shapes of the resulting sets\n",
    "print(\"X_train shape:\", X_train.shape)\n",
    "print(\"y_train shape:\", y_train.shape)\n",
    "print(\"X_val shape:\", X_val.shape)\n",
    "print(\"y_val shape:\", y_val.shape)\n",
    "print(\"X_test shape:\", X_test.shape)\n",
    "print(\"y_test shape:\", y_test.shape)\n"
   ]
  },
  {
   "attachments": {},
   "cell_type": "markdown",
   "metadata": {},
   "source": [
    "### Training Basic Model"
   ]
  },
  {
   "cell_type": "code",
   "execution_count": null,
   "metadata": {},
   "outputs": [],
   "source": [
    "from keras.models import Sequential\n",
    "from keras.layers import Dense\n",
    "\n",
    "def train_nn(X_train, y_train, num_epochs=10, batch_size=32):\n",
    "    # Create model\n",
    "    model = Sequential()\n",
    "    model.add(Dense(32, input_dim=X_train.shape[1], activation='relu'))\n",
    "    model.add(Dense(1, activation='sigmoid'))\n",
    "\n",
    "    # Compile model\n",
    "    model.compile(loss='binary_crossentropy', optimizer='adam', metrics=['accuracy'])\n",
    "\n",
    "    # Train model\n",
    "    model.fit(X_train, y_train, epochs=num_epochs, batch_size=batch_size)\n",
    "\n",
    "    return model\n"
   ]
  },
  {
   "cell_type": "code",
   "execution_count": null,
   "metadata": {},
   "outputs": [],
   "source": [
    "model = train_nn(X_train, y_train)\n",
    "\n",
    "# Evaluate the model on the testing data\n",
    "test_loss, test_acc = model.evaluate(X_test, y_test)\n",
    "\n",
    "# Print the testing accuracy\n",
    "print('Testing accuracy:', test_acc)\n"
   ]
  },
  {
   "attachments": {},
   "cell_type": "markdown",
   "metadata": {},
   "source": [
    "### Grid Search Training Method to Find Optimal Model"
   ]
  },
  {
   "cell_type": "code",
   "execution_count": null,
   "metadata": {},
   "outputs": [],
   "source": [
    "from keras.optimizers import Adam\n",
    "\n",
    "\n",
    "def train_best_nn(X_train, y_train, X_val, y_val):\n",
    "\n",
    "    # Define hyperparameters to search over\n",
    "    hidden_sizes = [32, 64, 128]\n",
    "    learning_rates = [0.001, 0.01, 0.1]\n",
    "    num_epochs = 100\n",
    "\n",
    "    best_loss = float(\"inf\")\n",
    "    best_model = None\n",
    "    best_history = None\n",
    "\n",
    "    # Iterate over hyperparameters to find the best model\n",
    "    for hidden_size in hidden_sizes:\n",
    "        for learning_rate in learning_rates:\n",
    "\n",
    "            # Create model\n",
    "            model = Sequential()\n",
    "            model.add(Dense(hidden_size, input_dim=X_train.shape[1], activation=\"relu\"))\n",
    "            model.add(Dense(1, activation=\"sigmoid\"))\n",
    "\n",
    "            # Compile model\n",
    "            model.compile(loss=\"binary_crossentropy\", optimizer=Adam(learning_rate), metrics=[\"accuracy\"])\n",
    "\n",
    "            # Train model\n",
    "            history = model.fit(X_train, y_train, epochs=num_epochs, validation_data=(X_val, y_val), verbose=0)\n",
    "\n",
    "            # Evaluate model on validation set\n",
    "            val_loss, val_acc = model.evaluate(X_val, y_val, verbose=0)\n",
    "\n",
    "            # Keep track of best model\n",
    "            if val_loss < best_loss:\n",
    "                best_loss = val_loss\n",
    "                best_model = model\n",
    "                best_history = history\n",
    "\n",
    "    return best_model, best_history\n",
    "\n",
    "\n",
    "\n",
    "\n"
   ]
  },
  {
   "cell_type": "code",
   "execution_count": null,
   "metadata": {},
   "outputs": [],
   "source": [
    "best_model, best_history = train_best_nn(X_train, y_train, X_val, y_val)"
   ]
  },
  {
   "cell_type": "code",
   "execution_count": null,
   "metadata": {},
   "outputs": [],
   "source": [
    "# Evaluate the model on the test set\n",
    "test_loss, test_acc = best_model.evaluate(X_test, y_test)\n",
    "\n",
    "print(\"Test accuracy:\", test_acc)\n"
   ]
  },
  {
   "attachments": {},
   "cell_type": "markdown",
   "metadata": {},
   "source": [
    "### Saving the Best Model for Prediction Making"
   ]
  },
  {
   "cell_type": "code",
   "execution_count": null,
   "metadata": {},
   "outputs": [],
   "source": [
    "best_model.save(\"Best_Model\")"
   ]
  }
 ],
 "metadata": {
  "kernelspec": {
   "display_name": "base",
   "language": "python",
   "name": "python3"
  },
  "language_info": {
   "codemirror_mode": {
    "name": "ipython",
    "version": 3
   },
   "file_extension": ".py",
   "mimetype": "text/x-python",
   "name": "python",
   "nbconvert_exporter": "python",
   "pygments_lexer": "ipython3",
   "version": "3.9.13"
  },
  "orig_nbformat": 4,
  "vscode": {
   "interpreter": {
    "hash": "aaf89b8e18e8001388ae5f602fac2560202aca3fdca6dcc84ec365eaf6a69bd8"
   }
  }
 },
 "nbformat": 4,
 "nbformat_minor": 2
}
